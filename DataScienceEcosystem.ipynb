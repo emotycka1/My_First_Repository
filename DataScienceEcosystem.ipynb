{
 "cells": [
  {
   "cell_type": "markdown",
   "id": "fa0dbca5-70df-49ab-93e8-7819162be144",
   "metadata": {},
   "source": [
    "# Data Science Tools and Ecosystem"
   ]
  },
  {
   "cell_type": "markdown",
   "id": "29146c9b-176b-47eb-b309-31ede042ae2e",
   "metadata": {},
   "source": [
    "## Author\n",
    "Eric M."
   ]
  },
  {
   "cell_type": "markdown",
   "id": "51cdeca8-9794-42ab-9fec-ac5fe6085ea5",
   "metadata": {},
   "source": [
    "In this notebook, Data Science Tools and Ecosystem are summarized. "
   ]
  },
  {
   "cell_type": "markdown",
   "id": "58a831e5-bf73-401d-92eb-9acc20bee3bd",
   "metadata": {},
   "source": [
    "**Objectives:**\n",
    "\n",
    "- List of Popular languages used by Data Scientists\n",
    "- List of common libraries used by Data Scientists\n",
    "- List of common Data Science tools\n",
    "- Mathematical Expressions; multiplication and addition\n",
    "- Mathematical Expressions; division"
   ]
  },
  {
   "cell_type": "markdown",
   "id": "6021fd01-12b6-4d4b-9bee-a629fa382a45",
   "metadata": {},
   "source": [
    "Some of the popular languages Data Scientists use are:\n",
    "\n",
    "1. Python\n",
    "2. R\n",
    "3. SQL\n",
    "\n"
   ]
  },
  {
   "attachments": {},
   "cell_type": "markdown",
   "id": "3b8af215-67ab-48c9-957a-34d0509187e8",
   "metadata": {},
   "source": [
    "Some of the commonly used libraries used by Data Scientists are:\n",
    "\n",
    "1. NumPy\n",
    "2. pandas\n",
    "3. Matplotlib\n",
    "4. scikit-learn\n",
    "5. TensorFlow\n",
    "   \n",
    "\n",
    "|Data Science Tools|\n",
    "|------------------|\n",
    "|Jupyter Notebook  |\n",
    "|RStudio           |\n",
    "|Apache Zeppelin   |\n",
    "|Apache Spark      |"
   ]
  },
  {
   "cell_type": "markdown",
   "id": "17a1171d-09af-4331-b6de-342d643f7d6c",
   "metadata": {},
   "source": [
    "### Below are a few examples of evaluation arithmetic expressions in Python."
   ]
  },
  {
   "cell_type": "code",
   "execution_count": 1,
   "id": "8f4d6ece-e514-4406-bd03-4491260a0cbd",
   "metadata": {},
   "outputs": [
    {
     "data": {
      "text/plain": [
       "17"
      ]
     },
     "execution_count": 1,
     "metadata": {},
     "output_type": "execute_result"
    }
   ],
   "source": [
    "(3*4)+5\n",
    "\n",
    "# This is a simple arithmetic expression to multiply then add integers \n"
   ]
  },
  {
   "cell_type": "code",
   "execution_count": 7,
   "id": "02863d42-5640-439e-9f78-a96fb75bf17a",
   "metadata": {},
   "outputs": [
    {
     "data": {
      "text/plain": [
       "3.3333333333333335"
      ]
     },
     "execution_count": 7,
     "metadata": {},
     "output_type": "execute_result"
    }
   ],
   "source": [
    "200/60\n",
    "\n",
    "# This will convert 200 minutes to hours by dividing by 60\n",
    "\n"
   ]
  },
  {
   "cell_type": "code",
   "execution_count": null,
   "id": "54b9f49a-1d55-4c2f-83b1-d7275cc13743",
   "metadata": {},
   "outputs": [],
   "source": []
  }
 ],
 "metadata": {
  "kernelspec": {
   "display_name": "Python 3 (ipykernel)",
   "language": "python",
   "name": "python3"
  },
  "language_info": {
   "codemirror_mode": {
    "name": "ipython",
    "version": 3
   },
   "file_extension": ".py",
   "mimetype": "text/x-python",
   "name": "python",
   "nbconvert_exporter": "python",
   "pygments_lexer": "ipython3",
   "version": "3.12.4"
  }
 },
 "nbformat": 4,
 "nbformat_minor": 5
}
